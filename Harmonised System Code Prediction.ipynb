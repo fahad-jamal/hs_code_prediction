{
 "cells": [
  {
   "cell_type": "code",
   "execution_count": 1,
   "id": "a664d477",
   "metadata": {},
   "outputs": [],
   "source": [
    "import pandas as pd\n",
    "import numpy as np\n",
    "import torch\n",
    "import pickle\n",
    "from sentence_transformers import util, SentenceTransformer\n",
    "from sklearn.metrics import accuracy_score, precision_score, recall_score, f1_score"
   ]
  },
  {
   "cell_type": "markdown",
   "id": "079c19d3",
   "metadata": {},
   "source": [
    "Getting data from 3 different sources by researching and colating into one."
   ]
  },
  {
   "cell_type": "code",
   "execution_count": 2,
   "id": "6100ecbc",
   "metadata": {},
   "outputs": [],
   "source": [
    "def get_data():\n",
    "    df1 = pd.read_json(\"./data/harmonized-system.json\")\n",
    "    df2 = pd.read_json(\"./data/subheadings.json\")\n",
    "    df3 = pd.read_json(\"./data/htsdata.json\")\n",
    "    final_df = df1.append(df2, ignore_index=True).dropna()\n",
    "    final_df = final_df.append(df3, ignore_index=True)\n",
    "    return final_df"
   ]
  },
  {
   "cell_type": "markdown",
   "id": "2747b0ff",
   "metadata": {},
   "source": [
    "Module to find best matches between input string and hs code description"
   ]
  },
  {
   "cell_type": "code",
   "execution_count": 3,
   "id": "803cedca",
   "metadata": {},
   "outputs": [],
   "source": [
    "def find_best_match(sent_embedd, train_embeddings, df_sentences):\n",
    "    sentence = ''\n",
    "    match_score = 0\n",
    "    for train_item, train_sent in zip(train_embeddings, df_sentences):\n",
    "        sim = util.cos_sim(sent_embedd, train_item)\n",
    "        if sim[0][0].item() > match_score:\n",
    "            match_score = sim[0][0].item()\n",
    "            sentence = train_sent\n",
    "    return match_score, sentence"
   ]
  },
  {
   "cell_type": "markdown",
   "id": "d8d27438",
   "metadata": {},
   "source": [
    "Module to find the corresponding HS code for the obtained matches"
   ]
  },
  {
   "cell_type": "code",
   "execution_count": 22,
   "id": "9da8f986",
   "metadata": {},
   "outputs": [],
   "source": [
    "def get_hs_code(descriptions, model, sentence_embeddings, df):\n",
    "    hs_out = []\n",
    "    for item_desc in descriptions:\n",
    "        flag_out = {}\n",
    "        query_vec = model.encode([item_desc])[0]\n",
    "        match_score, target_sentence = find_best_match(query_vec, sentence_embeddings,df['description'])\n",
    "        #print(match_score, target_sentence)\n",
    "        code = df[df['description']==target_sentence]['hscode'].values[0]\n",
    "        flag_out['input'] = item_desc\n",
    "        flag_out['score'] = match_score\n",
    "        flag_out['standard_desc'] = target_sentence\n",
    "        flag_out['hscode'] = code\n",
    "        hs_out.append(flag_out)\n",
    "    return hs_out"
   ]
  },
  {
   "cell_type": "markdown",
   "id": "81e238a7",
   "metadata": {},
   "source": [
    "Module to calculate success matrix."
   ]
  },
  {
   "cell_type": "code",
   "execution_count": 23,
   "id": "a852e85a",
   "metadata": {},
   "outputs": [],
   "source": [
    "def calc_success_matrix(test_df, model, embeddings, df):\n",
    "    test_df[\"predict_hs\"] = test_df['description'].apply(lambda x: int(get_hs_code([x], model, embeddings, df)[0][\"hscode\"]))\n",
    "    test_df.to_csv(\"./data/test_HS_2_res.csv\")\n",
    "    display(test_df)\n",
    "    accuracy = accuracy_score(test_df['hscode'],test_df[\"predict_hs\"])\n",
    "    precision = precision_score(test_df['hscode'],test_df[\"predict_hs\"],average='weighted')\n",
    "    recall = recall_score(test_df['hscode'],test_df[\"predict_hs\"],average='weighted')\n",
    "    F1_score = f1_score(test_df['hscode'],test_df[\"predict_hs\"],average='weighted')\n",
    "    return accuracy, precision, recall, F1_score"
   ]
  },
  {
   "cell_type": "code",
   "execution_count": 24,
   "id": "e306c7f3",
   "metadata": {},
   "outputs": [],
   "source": [
    "def main():\n",
    "    final_df = get_data()\n",
    "    sbert_model = SentenceTransformer('bert-base-nli-mean-tokens')\n",
    "    sentence_embeddings = sbert_model.encode(final_df['description'])\n",
    "    df_test = pd.read_csv(\"./data/test_HS.csv\")\n",
    "    accuracy,precision, recall, f1_scr = calc_success_matrix(df_test,sbert_model, sentence_embeddings, final_df)\n",
    "    print(f\"accuracy: {accuracy} | precision: {precision} | recall: {recall} | F1 score: {f1_scr}\")"
   ]
  },
  {
   "cell_type": "code",
   "execution_count": 25,
   "id": "9e8f17fd",
   "metadata": {},
   "outputs": [
    {
     "name": "stderr",
     "output_type": "stream",
     "text": [
      "/var/folders/st/0lwpjd4j497ffcfgk6f81gc00000gn/T/ipykernel_94801/168501420.py:5: FutureWarning: The frame.append method is deprecated and will be removed from pandas in a future version. Use pandas.concat instead.\n",
      "  final_df = df1.append(df2, ignore_index=True).dropna()\n",
      "/var/folders/st/0lwpjd4j497ffcfgk6f81gc00000gn/T/ipykernel_94801/168501420.py:6: FutureWarning: The frame.append method is deprecated and will be removed from pandas in a future version. Use pandas.concat instead.\n",
      "  final_df = final_df.append(df3, ignore_index=True)\n"
     ]
    },
    {
     "data": {
      "text/html": [
       "<div>\n",
       "<style scoped>\n",
       "    .dataframe tbody tr th:only-of-type {\n",
       "        vertical-align: middle;\n",
       "    }\n",
       "\n",
       "    .dataframe tbody tr th {\n",
       "        vertical-align: top;\n",
       "    }\n",
       "\n",
       "    .dataframe thead th {\n",
       "        text-align: right;\n",
       "    }\n",
       "</style>\n",
       "<table border=\"1\" class=\"dataframe\">\n",
       "  <thead>\n",
       "    <tr style=\"text-align: right;\">\n",
       "      <th></th>\n",
       "      <th>hscode</th>\n",
       "      <th>description</th>\n",
       "      <th>predict_hs</th>\n",
       "    </tr>\n",
       "  </thead>\n",
       "  <tbody>\n",
       "    <tr>\n",
       "      <th>0</th>\n",
       "      <td>851640</td>\n",
       "      <td>ELECTRIC SMOOTHING IRONS</td>\n",
       "      <td>851640</td>\n",
       "    </tr>\n",
       "    <tr>\n",
       "      <th>1</th>\n",
       "      <td>430130</td>\n",
       "      <td>RAW FURSKINS OF (INDIAN-PERSIAN ETC) LAMB WHOL...</td>\n",
       "      <td>430130</td>\n",
       "    </tr>\n",
       "    <tr>\n",
       "      <th>2</th>\n",
       "      <td>441911</td>\n",
       "      <td>BREAD BOARDS, CHOPPING BOARDS AND SIMILAR BOARDS</td>\n",
       "      <td>4419110000</td>\n",
       "    </tr>\n",
       "    <tr>\n",
       "      <th>3</th>\n",
       "      <td>853990</td>\n",
       "      <td>PARTS OF ARTICLES OF HEADING 8539</td>\n",
       "      <td>9801001051</td>\n",
       "    </tr>\n",
       "    <tr>\n",
       "      <th>4</th>\n",
       "      <td>392310</td>\n",
       "      <td>BOXS CASES CRATES AND SMLR ARTCLS OF PLSTCS</td>\n",
       "      <td>392310</td>\n",
       "    </tr>\n",
       "    <tr>\n",
       "      <th>...</th>\n",
       "      <td>...</td>\n",
       "      <td>...</td>\n",
       "      <td>...</td>\n",
       "    </tr>\n",
       "    <tr>\n",
       "      <th>230</th>\n",
       "      <td>611300</td>\n",
       "      <td>GRMNTS,MADE UP OF KNTTD CRCHTD FABRICS OF HDNG...</td>\n",
       "      <td>6210</td>\n",
       "    </tr>\n",
       "    <tr>\n",
       "      <th>231</th>\n",
       "      <td>540824</td>\n",
       "      <td>WOVN FBRICS,PRINTED,CONTAINING 85% OR MOREARTI...</td>\n",
       "      <td>540774</td>\n",
       "    </tr>\n",
       "    <tr>\n",
       "      <th>232</th>\n",
       "      <td>846231</td>\n",
       "      <td>NUMRCLY CONTRLLD SHEARNG MCHNS(INCL PRSSES),EX...</td>\n",
       "      <td>846239</td>\n",
       "    </tr>\n",
       "    <tr>\n",
       "      <th>233</th>\n",
       "      <td>420100</td>\n",
       "      <td>SDDLRY AND HRNSS FOR ANY ANML (INCL TRACTSLEAD...</td>\n",
       "      <td>420100</td>\n",
       "    </tr>\n",
       "    <tr>\n",
       "      <th>234</th>\n",
       "      <td>820291</td>\n",
       "      <td>STRAIGHT SAW BLADES FOR WORKING METAL</td>\n",
       "      <td>820291</td>\n",
       "    </tr>\n",
       "  </tbody>\n",
       "</table>\n",
       "<p>235 rows × 3 columns</p>\n",
       "</div>"
      ],
      "text/plain": [
       "     hscode                                        description  predict_hs\n",
       "0    851640                           ELECTRIC SMOOTHING IRONS      851640\n",
       "1    430130  RAW FURSKINS OF (INDIAN-PERSIAN ETC) LAMB WHOL...      430130\n",
       "2    441911   BREAD BOARDS, CHOPPING BOARDS AND SIMILAR BOARDS  4419110000\n",
       "3    853990                  PARTS OF ARTICLES OF HEADING 8539  9801001051\n",
       "4    392310        BOXS CASES CRATES AND SMLR ARTCLS OF PLSTCS      392310\n",
       "..      ...                                                ...         ...\n",
       "230  611300  GRMNTS,MADE UP OF KNTTD CRCHTD FABRICS OF HDNG...        6210\n",
       "231  540824  WOVN FBRICS,PRINTED,CONTAINING 85% OR MOREARTI...      540774\n",
       "232  846231  NUMRCLY CONTRLLD SHEARNG MCHNS(INCL PRSSES),EX...      846239\n",
       "233  420100  SDDLRY AND HRNSS FOR ANY ANML (INCL TRACTSLEAD...      420100\n",
       "234  820291              STRAIGHT SAW BLADES FOR WORKING METAL      820291\n",
       "\n",
       "[235 rows x 3 columns]"
      ]
     },
     "metadata": {},
     "output_type": "display_data"
    },
    {
     "name": "stdout",
     "output_type": "stream",
     "text": [
      "accuracy: 0.825531914893617 | precision: 0.823404255319149 | recall: 0.825531914893617 | F1 score: 0.8241134751773049\n"
     ]
    },
    {
     "name": "stderr",
     "output_type": "stream",
     "text": [
      "/Library/Frameworks/Python.framework/Versions/3.10/lib/python3.10/site-packages/sklearn/metrics/_classification.py:1344: UndefinedMetricWarning: Precision is ill-defined and being set to 0.0 in labels with no predicted samples. Use `zero_division` parameter to control this behavior.\n",
      "  _warn_prf(average, modifier, msg_start, len(result))\n",
      "/Library/Frameworks/Python.framework/Versions/3.10/lib/python3.10/site-packages/sklearn/metrics/_classification.py:1344: UndefinedMetricWarning: Recall is ill-defined and being set to 0.0 in labels with no true samples. Use `zero_division` parameter to control this behavior.\n",
      "  _warn_prf(average, modifier, msg_start, len(result))\n"
     ]
    }
   ],
   "source": [
    "main()"
   ]
  },
  {
   "cell_type": "code",
   "execution_count": null,
   "id": "67b7fab0",
   "metadata": {},
   "outputs": [],
   "source": []
  }
 ],
 "metadata": {
  "kernelspec": {
   "display_name": "Python 3 (ipykernel)",
   "language": "python",
   "name": "python3"
  },
  "language_info": {
   "codemirror_mode": {
    "name": "ipython",
    "version": 3
   },
   "file_extension": ".py",
   "mimetype": "text/x-python",
   "name": "python",
   "nbconvert_exporter": "python",
   "pygments_lexer": "ipython3",
   "version": "3.10.2"
  }
 },
 "nbformat": 4,
 "nbformat_minor": 5
}
